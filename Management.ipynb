{
  "nbformat": 4,
  "nbformat_minor": 0,
  "metadata": {
    "colab": {
      "provenance": [],
      "authorship_tag": "ABX9TyMP2E4UIHiK4y9driRDoY1a",
      "include_colab_link": true
    },
    "kernelspec": {
      "name": "python3",
      "display_name": "Python 3"
    },
    "language_info": {
      "name": "python"
    }
  },
  "cells": [
    {
      "cell_type": "markdown",
      "metadata": {
        "id": "view-in-github",
        "colab_type": "text"
      },
      "source": [
        "<a href=\"https://colab.research.google.com/github/FarEehaKhAtri345/Time-management-/blob/main/Management.ipynb\" target=\"_parent\"><img src=\"https://colab.research.google.com/assets/colab-badge.svg\" alt=\"Open In Colab\"/></a>"
      ]
    },
    {
      "cell_type": "code",
      "execution_count": 1,
      "metadata": {
        "colab": {
          "base_uri": "https://localhost:8080/"
        },
        "id": "NQMYOvhrz5SJ",
        "outputId": "62efce5b-9a27-4a80-bb14-06aad037f222"
      },
      "outputs": [
        {
          "output_type": "stream",
          "name": "stdout",
          "text": [
            "           Task    Start Time      End Time   Duration\n",
            "0  Writing Code  1.729677e+09  1.729678e+09  10.010038\n"
          ]
        }
      ],
      "source": [
        "import pandas as pd\n",
        "import time\n",
        "\n",
        "# Initialize an empty DataFrame to hold task data\n",
        "task_data = pd.DataFrame(columns=['Task', 'Start Time', 'End Time', 'Duration'])\n",
        "\n",
        "def start_task(task_name):\n",
        "    start_time = time.time()  # Record the start time\n",
        "    return task_name, start_time\n",
        "\n",
        "def end_task(task_name, start_time):\n",
        "    end_time = time.time()  # Record the end time\n",
        "    duration = end_time - start_time  # Calculate duration\n",
        "    return task_name, start_time, end_time, duration\n",
        "\n",
        "# Example usage\n",
        "tasks = []\n",
        "\n",
        "# Start a task (you can change the task name)\n",
        "task_name, start_time = start_task(\"Writing Code\")\n",
        "\n",
        "# Simulate working on the task for 10 seconds\n",
        "time.sleep(10)\n",
        "\n",
        "# End the task\n",
        "task_info = end_task(task_name, start_time)\n",
        "\n",
        "# Append the task information to the list of tasks\n",
        "tasks.append(task_info)\n",
        "\n",
        "# Create a DataFrame from the tasks\n",
        "task_df = pd.DataFrame(tasks, columns=['Task', 'Start Time', 'End Time', 'Duration'])\n",
        "\n",
        "# Display the DataFrame\n",
        "print(task_df)\n",
        "\n",
        "# Save to CSV\n",
        "task_df.to_csv('time_management_log.csv', index=False)"
      ]
    }
  ]
}